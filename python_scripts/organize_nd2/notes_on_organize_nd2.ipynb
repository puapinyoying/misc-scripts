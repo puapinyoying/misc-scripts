{
 "cells": [
  {
   "cell_type": "markdown",
   "metadata": {},
   "source": [
    "# Making a script to organize high-throughput imaging data\n",
    "\n",
    "- Generates folders for each drug and dose\n",
    "- Rename .nd2 files to remove spaces and commas\n",
    "- Moves the .nd2 files into organized drug, dose folders\n",
    "\n",
    "By Prech Uapinyoying\n",
    "\n",
    "12/20/2018"
   ]
  },
  {
   "cell_type": "code",
   "execution_count": 1,
   "metadata": {},
   "outputs": [],
   "source": [
    "import shutil\n",
    "import os # for dealing with operating system commands like paths to files\n",
    "#import sys\n",
    "import re\n",
    "import itertools"
   ]
  },
  {
   "cell_type": "markdown",
   "metadata": {},
   "source": [
    "# Step 1. Generate test files\n",
    "\n",
    "Before you even start, you need to create some test files to play with. Use the included 'create_orig_files.sh'\n",
    "\n",
    "Then run the script in the directory you want by doing `bash create_orig_files.sh`\n",
    "\n",
    "---"
   ]
  },
  {
   "cell_type": "markdown",
   "metadata": {},
   "source": [
    "# Step2.  Get the current directory path and a list of all the files in it"
   ]
  },
  {
   "cell_type": "code",
   "execution_count": 2,
   "metadata": {},
   "outputs": [],
   "source": [
    "# Get the current working directory\n",
    "cwd = os.getcwd()\n",
    "cwd"
   ]
  },
  {
   "cell_type": "code",
   "execution_count": 3,
   "metadata": {},
   "outputs": [],
   "source": [
    "# I generated the test files into a folder called 'test_files' lets create that path\n",
    "# join command will intellegently combine path names with correct slash for any operating system\n",
    "filesDir = os.path.join(cwd, 'test_files') \n",
    "filesDir"
   ]
  },
  {
   "cell_type": "code",
   "execution_count": 4,
   "metadata": {},
   "outputs": [
    {
     "data": {
      "text/plain": [
       "['grn_d6_24hr_posttx_WellB24_Channel405 nm,488 nm,561 nm,640 nm_Seq0024.nd2',\n",
       " 'grn_d6_24hr_posttx_WellF03_Channel405 nm,488 nm,561 nm,640 nm_Seq0141.nd2',\n",
       " 'grn_d6_24hr_posttx_WellA22_Channel405 nm,488 nm,561 nm,640 nm_Seq0021.nd2',\n",
       " 'grn_d6_24hr_posttx_WellJ20_Channel405 nm,488 nm,561 nm,640 nm_Seq0220.nd2',\n",
       " 'grn_d6_24hr_posttx_WellI01_Channel405 nm,488 nm,561 nm,640 nm_Seq0192.nd2']"
      ]
     },
     "execution_count": 4,
     "metadata": {},
     "output_type": "execute_result"
    }
   ],
   "source": [
    "# Get a list of files in that test_files directory\n",
    "fileList = os.listdir(filesDir)\n",
    "fileList[0:5] # take a look at first 5"
   ]
  },
  {
   "cell_type": "code",
   "execution_count": 5,
   "metadata": {},
   "outputs": [
    {
     "name": "stdout",
     "output_type": "stream",
     "text": [
      "The extension is: \".nd2\"\n"
     ]
    }
   ],
   "source": [
    "# We need to check if the filename also ends with an nd2, can do this with os.path.splitext\n",
    "filename, file_extension = os.path.splitext(\n",
    "    'grn_d6_24hr_posttx_WellB24_Channel405 nm,488 nm,561 nm,640 nm_Seq0024.nd2')\n",
    "\n",
    "print(f'The extension is: \"{file_extension}\"')"
   ]
  },
  {
   "cell_type": "code",
   "execution_count": 6,
   "metadata": {},
   "outputs": [],
   "source": [
    "# Make it into a function, you will probably use the script in the folder anyways\n",
    "\n",
    "def get_nd2_fileList(filesDir):\n",
    "    \n",
    "    fileList = []\n",
    "    \n",
    "    cwd = os.getcwd()\n",
    "    allFiles = os.listdir(filesDir)\n",
    "    for file in allFiles:\n",
    "        filename, file_extension = os.path.splitext(file)\n",
    "        if file_extension == '.nd2':\n",
    "            fileList.append(file)\n",
    "    \n",
    "    return fileList"
   ]
  },
  {
   "cell_type": "markdown",
   "metadata": {},
   "source": [
    "---\n",
    "\n",
    "\n",
    "# Step 3. Automating the generation of new drug/dose directories\n",
    "\n",
    "Start by making lists of drugs and doses for generating drug directories and dose subdirectories"
   ]
  },
  {
   "cell_type": "code",
   "execution_count": 7,
   "metadata": {},
   "outputs": [
    {
     "name": "stdout",
     "output_type": "stream",
     "text": [
      "['drug1', 'drug2', 'drug3', 'drug4', 'drug5', 'drug6', 'drug7', 'drug8', 'drug9', 'drug10', 'drug11', 'drug12']\n",
      "['dose1', 'dose2', 'dose3', 'dose4', 'dose5', 'dose6', 'dose7', 'dose8']\n"
     ]
    }
   ],
   "source": [
    "drugDirNames = ['drug1','drug2','drug3','drug4','drug5','drug6',\n",
    "                'drug7','drug8','drug9','drug10','drug11', 'drug12']\n",
    "\n",
    "doseDirNames = ['dose1','dose2','dose3','dose4','dose5','dose6','dose7','dose8']\n",
    "\n",
    "print(drugDirNames)\n",
    "print(doseDirNames)"
   ]
  },
  {
   "cell_type": "markdown",
   "metadata": {},
   "source": [
    "Lets add the full path to the first drug folder and drug dose using `os.path.join()`.  This function is particularly nice because it will intellegently format the path (e.g. slashes) for the operating system you are on."
   ]
  },
  {
   "cell_type": "code",
   "execution_count": 8,
   "metadata": {},
   "outputs": [
    {
     "data": {
      "text/plain": [
       "'/Users/uapinyoyingpb/misc-scripts/python_scripts/organize_nd2/test_files/drug1/dose1'"
      ]
     },
     "execution_count": 8,
     "metadata": {},
     "output_type": "execute_result"
    }
   ],
   "source": [
    "os.path.join(filesDir, drugDirNames[0], doseDirNames[0])"
   ]
  },
  {
   "cell_type": "markdown",
   "metadata": {},
   "source": [
    "Now try it with a for loop that will automate the path generation for all drug/dose paths and put it into a list"
   ]
  },
  {
   "cell_type": "code",
   "execution_count": 9,
   "metadata": {},
   "outputs": [
    {
     "data": {
      "text/plain": [
       "['/Users/uapinyoyingpb/misc-scripts/python_scripts/organize_nd2/test_files/drug1/dose1',\n",
       " '/Users/uapinyoyingpb/misc-scripts/python_scripts/organize_nd2/test_files/drug1/dose2',\n",
       " '/Users/uapinyoyingpb/misc-scripts/python_scripts/organize_nd2/test_files/drug1/dose3',\n",
       " '/Users/uapinyoyingpb/misc-scripts/python_scripts/organize_nd2/test_files/drug1/dose4',\n",
       " '/Users/uapinyoyingpb/misc-scripts/python_scripts/organize_nd2/test_files/drug1/dose5',\n",
       " '/Users/uapinyoyingpb/misc-scripts/python_scripts/organize_nd2/test_files/drug1/dose6',\n",
       " '/Users/uapinyoyingpb/misc-scripts/python_scripts/organize_nd2/test_files/drug1/dose7',\n",
       " '/Users/uapinyoyingpb/misc-scripts/python_scripts/organize_nd2/test_files/drug1/dose8',\n",
       " '/Users/uapinyoyingpb/misc-scripts/python_scripts/organize_nd2/test_files/drug2/dose1',\n",
       " '/Users/uapinyoyingpb/misc-scripts/python_scripts/organize_nd2/test_files/drug2/dose2',\n",
       " '/Users/uapinyoyingpb/misc-scripts/python_scripts/organize_nd2/test_files/drug2/dose3',\n",
       " '/Users/uapinyoyingpb/misc-scripts/python_scripts/organize_nd2/test_files/drug2/dose4',\n",
       " '/Users/uapinyoyingpb/misc-scripts/python_scripts/organize_nd2/test_files/drug2/dose5',\n",
       " '/Users/uapinyoyingpb/misc-scripts/python_scripts/organize_nd2/test_files/drug2/dose6',\n",
       " '/Users/uapinyoyingpb/misc-scripts/python_scripts/organize_nd2/test_files/drug2/dose7',\n",
       " '/Users/uapinyoyingpb/misc-scripts/python_scripts/organize_nd2/test_files/drug2/dose8']"
      ]
     },
     "execution_count": 9,
     "metadata": {},
     "output_type": "execute_result"
    }
   ],
   "source": [
    "fullDrugDirPaths = [] # make an empty list to put the generated directory paths into\n",
    "\n",
    "# For each drug directory in the list, join the paths and add it to the empty list\n",
    "for drugDir in drugDirNames:\n",
    "    for doseDir in doseDirNames:\n",
    "        currDir = os.path.join(filesDir, drugDir, doseDir)\n",
    "        fullDrugDirPaths.append(currDir)\n",
    "    \n",
    "fullDrugDirPaths[0:16] # peak at first two drugs and their 8 doses"
   ]
  },
  {
   "cell_type": "markdown",
   "metadata": {},
   "source": [
    "Turn it into a function"
   ]
  },
  {
   "cell_type": "code",
   "execution_count": 10,
   "metadata": {},
   "outputs": [],
   "source": [
    "def gen_dir_paths(drugDirNames, drugDoseNames, filesDir):\n",
    "    fullDrugDirPaths = [] # make an empty list to put the generated directory paths into\n",
    "\n",
    "    # For each drug directory in the list, join the paths and add it to the empty list\n",
    "    for drugDir in drugDirNames:\n",
    "        for doseDir in doseDirNames:\n",
    "            currDir = os.path.join(filesDir, drugDir, doseDir)\n",
    "            fullDrugDirPaths.append(currDir)\n",
    "            \n",
    "    return fullDrugDirPaths"
   ]
  },
  {
   "cell_type": "markdown",
   "metadata": {},
   "source": [
    "Let's work out the logic on how to create a new directory with a single folder. We can specify that we only want to make the new directory if it doesn't exist yet, but its not important. If you run this, you may need to rerun the `create_orig_files.sh` script again to restore the name."
   ]
  },
  {
   "cell_type": "code",
   "execution_count": 11,
   "metadata": {},
   "outputs": [],
   "source": [
    "# if not os.path.exists(fullDrugDirPaths[1]):\n",
    "#     os.makedirs(fullDrugDirPaths[1])\n",
    "#     print('I just created this folder: {}'.format(fullDrugDirPaths[1]))\n",
    "# else:\n",
    "#     print('Folder already exists, man!')"
   ]
  },
  {
   "cell_type": "markdown",
   "metadata": {},
   "source": [
    "Here I turn the example into a function that will create all folders in the `fullDrugDirPaths` list. However, I make the folder exist check a bit more robust using a `try` statement. This way I can catch the `FileExistsError` and gracefully respond to the user with feedback and shutdown the script instead of letting the whole script crash with an ugly error when it runs."
   ]
  },
  {
   "cell_type": "code",
   "execution_count": 12,
   "metadata": {},
   "outputs": [],
   "source": [
    "def make_dirs(fullDrugDirPaths):\n",
    "    for path in fullDrugDirPaths:\n",
    "        try:\n",
    "            # chng to 'exist_ok=False' if you don't want to allow overwriting\n",
    "            os.makedirs(path, exist_ok=True) \n",
    "            #print(f'Created directory: {path}')\n",
    "        except FileExistsError:\n",
    "            print(f'Error: {path} exists dude. Have you already run this script before?')"
   ]
  },
  {
   "cell_type": "markdown",
   "metadata": {},
   "source": [
    "Now to actually make all the directories using our new function"
   ]
  },
  {
   "cell_type": "code",
   "execution_count": 13,
   "metadata": {},
   "outputs": [
    {
     "name": "stdout",
     "output_type": "stream",
     "text": [
      "['drug12', 'drug8', 'drug6', 'drug1', 'drug7', 'drug9', 'drug11', 'drug10', 'drug2', 'drug5', 'drug4', 'drug3']\n"
     ]
    }
   ],
   "source": [
    "make_dirs(fullDrugDirPaths)\n",
    "\n",
    "# Check if the folders are there by walking through the directory and selecting only subfolders\n",
    "makeDirsOutput = next(os.walk(filesDir))[1]\n",
    "print(makeDirsOutput)"
   ]
  },
  {
   "cell_type": "markdown",
   "metadata": {},
   "source": [
    "---\n",
    "\n",
    "# Step 4. Figure out how to rename files to remove spaces and commas \n",
    "\n",
    "First, lets try to use regular expressions to determine what well each file is from based on its name"
   ]
  },
  {
   "cell_type": "code",
   "execution_count": 14,
   "metadata": {},
   "outputs": [
    {
     "name": "stdout",
     "output_type": "stream",
     "text": [
      "Original(test):\tgrn_d6_24hr_posttx_WellA01_Channel405 nm,488 nm,561 nm,640 nm_Seq0024.nd2\n",
      "Replacement:\tgrn_d6_24hr_posttx_WellA01_Channel_405nm_488nm_561nm_640nm_Seq0024.nd2\n"
     ]
    }
   ],
   "source": [
    "# Example of a full file name with spaces and commas\n",
    "test = 'grn_d6_24hr_posttx_WellA01_Channel405 nm,488 nm,561 nm,640 nm_Seq0024.nd2'\n",
    "\n",
    "# Create a regular expression that caputures all the relevant groups using parentheses ()\n",
    "REGEXP = r'(\\w+)_Well(\\w+)_Channel(\\d+) nm,(\\d+) nm,(\\d+) nm,(\\d+) nm_(\\w+).(nd2)'\n",
    "\n",
    "# Use the re.search() function to look for a match and capture all the groups specified in REGEXP ()\n",
    "r = re.search(REGEXP,test)\n",
    "\n",
    "# Here I use the captured groups and replace them in the format I want, including removing spaces and commas\n",
    "# This (f'{}') is called 'f-string interpolation' its super useful and concise way to print stirngs\n",
    "replacement = f'{r.group(1)}_Well{r.group(2)}_Channel_{r.group(3)}nm_{r.group(4)}nm_{r.group(5)}nm_{r.group(6)}nm_{r.group(7)}.{r.group(8)}'\n",
    "\n",
    "print(f'Original(test):\\t{test}') # The original file name in our test case (spaces, commas and all)\n",
    "print(f'Replacement:\\t{replacement}') # Check the replacement string if it removed all our spaces and commas"
   ]
  },
  {
   "cell_type": "markdown",
   "metadata": {},
   "source": [
    "Quick test if renaming works using `test` and `replacement`. If you do this, you will need to delete the `test_files` folder and rerun the `create_orig_files.sh` script."
   ]
  },
  {
   "cell_type": "code",
   "execution_count": 15,
   "metadata": {},
   "outputs": [],
   "source": [
    "#shutil.move(os.path.join(filesDir,test),os.path.join(filesDir,replacement))"
   ]
  },
  {
   "cell_type": "markdown",
   "metadata": {},
   "source": [
    "Larger test to rename all the files using a for loop. Again, if you do this you will need to recreate the files using 'create_orig_files.sh'"
   ]
  },
  {
   "cell_type": "code",
   "execution_count": 16,
   "metadata": {},
   "outputs": [],
   "source": [
    "# for file in fileList:\n",
    "#     r = re.search(REGEXP,file)\n",
    "#     replacement = f'{r.group(1)}_Well{r.group(2)}_Channel_{r.group(3)}nm_\\\n",
    "# {r.group(4)}nm_{r.group(5)}nm_{r.group(6)}nm_{r.group(7)}.{r.group(8)}'\n",
    "    \n",
    "#     sourcePath = os.path.join(filesDir,file)\n",
    "#     replacementPath = os.path.join(filesDir, replacement)\n",
    "    \n",
    "#     shutil.move(sourcePath,replacementPath)"
   ]
  },
  {
   "cell_type": "markdown",
   "metadata": {},
   "source": [
    "Let's reserve the actual renaming for later down the line. I will try to combine renaming and moving into a single step, but first I'll turn the name changing portion into a function that we can reuse later."
   ]
  },
  {
   "cell_type": "code",
   "execution_count": 17,
   "metadata": {},
   "outputs": [],
   "source": [
    "def get_new_filenames(fileList):\n",
    "    oldNewFilenameList = [] # initiate an empty list for housing old and new file names\n",
    "    \n",
    "    for oldFilename in fileList:\n",
    "        r = re.search(REGEXP,oldFilename)\n",
    "        newFilename = f'{r.group(1)}_Well{r.group(2)}_Channel_{r.group(3)}nm_{r.group(4)}nm_{r.group(5)}nm_{r.group(6)}nm_{r.group(7)}.{r.group(8)}'\n",
    "        \n",
    "        # file names in a list of tuples (old name, new name)\n",
    "        oldNewFilenameList.append((oldFilename, newFilename))\n",
    "\n",
    "    return oldNewFilenameList"
   ]
  },
  {
   "cell_type": "markdown",
   "metadata": {},
   "source": [
    "Now use the new function to generate the old and new file name list"
   ]
  },
  {
   "cell_type": "code",
   "execution_count": 18,
   "metadata": {},
   "outputs": [
    {
     "name": "stdout",
     "output_type": "stream",
     "text": [
      "old name: grn_d6_24hr_posttx_WellB24_Channel405 nm,488 nm,561 nm,640 nm_Seq0024.nd2\n",
      "new name: grn_d6_24hr_posttx_WellB24_Channel_405nm_488nm_561nm_640nm_Seq0024.nd2\n",
      "\n",
      "old name: grn_d6_24hr_posttx_WellF03_Channel405 nm,488 nm,561 nm,640 nm_Seq0141.nd2\n",
      "new name: grn_d6_24hr_posttx_WellF03_Channel_405nm_488nm_561nm_640nm_Seq0141.nd2\n",
      "\n",
      "old name: grn_d6_24hr_posttx_WellA22_Channel405 nm,488 nm,561 nm,640 nm_Seq0021.nd2\n",
      "new name: grn_d6_24hr_posttx_WellA22_Channel_405nm_488nm_561nm_640nm_Seq0021.nd2\n",
      "\n",
      "old name: grn_d6_24hr_posttx_WellJ20_Channel405 nm,488 nm,561 nm,640 nm_Seq0220.nd2\n",
      "new name: grn_d6_24hr_posttx_WellJ20_Channel_405nm_488nm_561nm_640nm_Seq0220.nd2\n",
      "\n",
      "old name: grn_d6_24hr_posttx_WellI01_Channel405 nm,488 nm,561 nm,640 nm_Seq0192.nd2\n",
      "new name: grn_d6_24hr_posttx_WellI01_Channel_405nm_488nm_561nm_640nm_Seq0192.nd2\n",
      "\n"
     ]
    }
   ],
   "source": [
    "oldNewFilenameList = get_new_filenames(fileList)\n",
    "\n",
    "# Print out the first 5 entries\n",
    "for (oldName, newName) in oldNewFilenameList[0:5]:\n",
    "    print(f'old name: {oldName}')\n",
    "    print(f'new name: {newName}\\n')"
   ]
  },
  {
   "cell_type": "markdown",
   "metadata": {},
   "source": [
    "---\n",
    "\n",
    "\n",
    "# Step 5. Matching specific files to specific directories.\n",
    "\n",
    "Now we need to figure out how to match up the file with its destination if we want to move the correct files to their new directories. We can do this by using the captured well name within the file.\n",
    "\n",
    "To arrange the wells for each drug, we will make a dictionary for each drug with the dose as the key and list of wells as the values."
   ]
  },
  {
   "cell_type": "code",
   "execution_count": 19,
   "metadata": {},
   "outputs": [],
   "source": [
    "drug1Dict = {'dose1': ['A01','A03','A05', 'A07'],\n",
    "             'dose2': ['C01','C03','C05', 'C07'],\n",
    "             'dose3': ['E01','E03','E05', 'E07'],\n",
    "             'dose4': ['G01','G03','G05', 'G07'],\n",
    "             'dose5': ['I01','I03','I05', 'I07'],\n",
    "             'dose6': ['K01','K03','K05', 'K07'],\n",
    "             'dose7': ['M01','M03','M05', 'M07'],\n",
    "             'dose8': ['O01','O03','O05', 'O07']}"
   ]
  },
  {
   "cell_type": "markdown",
   "metadata": {},
   "source": [
    "We can use itertools' `.items()` to loop through key (dose), value (wells) pairs"
   ]
  },
  {
   "cell_type": "code",
   "execution_count": 20,
   "metadata": {},
   "outputs": [
    {
     "name": "stdout",
     "output_type": "stream",
     "text": [
      "dose1 --> ['A01', 'A03', 'A05', 'A07']\n",
      "dose2 --> ['C01', 'C03', 'C05', 'C07']\n",
      "dose3 --> ['E01', 'E03', 'E05', 'E07']\n",
      "dose4 --> ['G01', 'G03', 'G05', 'G07']\n",
      "dose5 --> ['I01', 'I03', 'I05', 'I07']\n",
      "dose6 --> ['K01', 'K03', 'K05', 'K07']\n",
      "dose7 --> ['M01', 'M03', 'M05', 'M07']\n",
      "dose8 --> ['O01', 'O03', 'O05', 'O07']\n"
     ]
    }
   ],
   "source": [
    "for dose, wells in drug1Dict.items():\n",
    "    print(f'{dose} --> {wells}')"
   ]
  },
  {
   "cell_type": "markdown",
   "metadata": {},
   "source": [
    "Let's try to figure out the logic for determining what file goes to what folder"
   ]
  },
  {
   "cell_type": "code",
   "execution_count": 21,
   "metadata": {},
   "outputs": [
    {
     "name": "stdout",
     "output_type": "stream",
     "text": [
      "grn_d6_24hr_posttx_WellI01_Channel405 nm,488 nm,561 nm,640 nm_Seq0192.nd2 - belongs in --> dose5\n",
      "grn_d6_24hr_posttx_WellA01_Channel405 nm,488 nm,561 nm,640 nm_Seq0000.nd2 - belongs in --> dose1\n",
      "grn_d6_24hr_posttx_WellK03_Channel405 nm,488 nm,561 nm,640 nm_Seq0242.nd2 - belongs in --> dose6\n",
      "grn_d6_24hr_posttx_WellM03_Channel405 nm,488 nm,561 nm,640 nm_Seq0290.nd2 - belongs in --> dose7\n",
      "grn_d6_24hr_posttx_WellE03_Channel405 nm,488 nm,561 nm,640 nm_Seq0098.nd2 - belongs in --> dose3\n",
      "grn_d6_24hr_posttx_WellC07_Channel405 nm,488 nm,561 nm,640 nm_Seq0054.nd2 - belongs in --> dose2\n",
      "grn_d6_24hr_posttx_WellI03_Channel405 nm,488 nm,561 nm,640 nm_Seq0194.nd2 - belongs in --> dose5\n",
      "grn_d6_24hr_posttx_WellC01_Channel405 nm,488 nm,561 nm,640 nm_Seq0048.nd2 - belongs in --> dose2\n",
      "grn_d6_24hr_posttx_WellO01_Channel405 nm,488 nm,561 nm,640 nm_Seq0336.nd2 - belongs in --> dose8\n",
      "grn_d6_24hr_posttx_WellA03_Channel405 nm,488 nm,561 nm,640 nm_Seq0002.nd2 - belongs in --> dose1\n",
      "grn_d6_24hr_posttx_WellK01_Channel405 nm,488 nm,561 nm,640 nm_Seq0240.nd2 - belongs in --> dose6\n",
      "grn_d6_24hr_posttx_WellG07_Channel405 nm,488 nm,561 nm,640 nm_Seq0150.nd2 - belongs in --> dose4\n",
      "grn_d6_24hr_posttx_WellC05_Channel405 nm,488 nm,561 nm,640 nm_Seq0052.nd2 - belongs in --> dose2\n",
      "grn_d6_24hr_posttx_WellI07_Channel405 nm,488 nm,561 nm,640 nm_Seq0198.nd2 - belongs in --> dose5\n",
      "grn_d6_24hr_posttx_WellM01_Channel405 nm,488 nm,561 nm,640 nm_Seq0288.nd2 - belongs in --> dose7\n",
      "grn_d6_24hr_posttx_WellK05_Channel405 nm,488 nm,561 nm,640 nm_Seq0244.nd2 - belongs in --> dose6\n",
      "grn_d6_24hr_posttx_WellA07_Channel405 nm,488 nm,561 nm,640 nm_Seq0006.nd2 - belongs in --> dose1\n",
      "grn_d6_24hr_posttx_WellE05_Channel405 nm,488 nm,561 nm,640 nm_Seq0100.nd2 - belongs in --> dose3\n",
      "grn_d6_24hr_posttx_WellG03_Channel405 nm,488 nm,561 nm,640 nm_Seq0146.nd2 - belongs in --> dose4\n",
      "grn_d6_24hr_posttx_WellO07_Channel405 nm,488 nm,561 nm,640 nm_Seq0342.nd2 - belongs in --> dose8\n",
      "grn_d6_24hr_posttx_WellE01_Channel405 nm,488 nm,561 nm,640 nm_Seq0096.nd2 - belongs in --> dose3\n",
      "grn_d6_24hr_posttx_WellM05_Channel405 nm,488 nm,561 nm,640 nm_Seq0292.nd2 - belongs in --> dose7\n",
      "grn_d6_24hr_posttx_WellC03_Channel405 nm,488 nm,561 nm,640 nm_Seq0050.nd2 - belongs in --> dose2\n",
      "grn_d6_24hr_posttx_WellO03_Channel405 nm,488 nm,561 nm,640 nm_Seq0338.nd2 - belongs in --> dose8\n",
      "grn_d6_24hr_posttx_WellE07_Channel405 nm,488 nm,561 nm,640 nm_Seq0102.nd2 - belongs in --> dose3\n",
      "grn_d6_24hr_posttx_WellO05_Channel405 nm,488 nm,561 nm,640 nm_Seq0340.nd2 - belongs in --> dose8\n",
      "grn_d6_24hr_posttx_WellG01_Channel405 nm,488 nm,561 nm,640 nm_Seq0144.nd2 - belongs in --> dose4\n",
      "grn_d6_24hr_posttx_WellK07_Channel405 nm,488 nm,561 nm,640 nm_Seq0246.nd2 - belongs in --> dose6\n",
      "grn_d6_24hr_posttx_WellA05_Channel405 nm,488 nm,561 nm,640 nm_Seq0004.nd2 - belongs in --> dose1\n",
      "grn_d6_24hr_posttx_WellG05_Channel405 nm,488 nm,561 nm,640 nm_Seq0148.nd2 - belongs in --> dose4\n",
      "grn_d6_24hr_posttx_WellM07_Channel405 nm,488 nm,561 nm,640 nm_Seq0294.nd2 - belongs in --> dose7\n",
      "grn_d6_24hr_posttx_WellI05_Channel405 nm,488 nm,561 nm,640 nm_Seq0196.nd2 - belongs in --> dose5\n"
     ]
    }
   ],
   "source": [
    "for file in fileList:\n",
    "    r = re.search(REGEXP,file)\n",
    "    for dose, wells in drug1Dict.items():\n",
    "        if r.group(2) in wells:\n",
    "            print(f'{file} - belongs in --> {dose}')"
   ]
  },
  {
   "cell_type": "markdown",
   "metadata": {},
   "source": [
    "Lets take it to the next step and make a nested dictionary of all the drugs and doses that will exist on a 384 well plate. This list is going to be huge. I used find and replace to create it.\n",
    "`{ drug1: {dose1: wells} }`. "
   ]
  },
  {
   "cell_type": "code",
   "execution_count": 22,
   "metadata": {},
   "outputs": [],
   "source": [
    "drugDict = {\n",
    "'drug1': {\n",
    "'dose1': ['A01','A03','A05', 'A07'],    'dose2': ['C01','C03','C05', 'C07'], \n",
    "'dose3': ['E01','E03','E05', 'E07'],    'dose4': ['G01','G03','G05', 'G07'],\n",
    "'dose5': ['I01','I03','I05', 'I07'],    'dose6': ['K01','K03','K05', 'K07'],\n",
    "'dose7': ['M01','M03','M05', 'M07'],    'dose8': ['O01','O03','O05', 'O07']},\n",
    "            \n",
    "'drug2': {\n",
    "'dose1': ['A02','A04','A06', 'A08'],    'dose2': ['C02','C04','C06', 'C08'], \n",
    "'dose3': ['E02','E04','E06', 'E08'],    'dose4': ['G02','G04','G06', 'G08'],\n",
    "'dose5': ['I02','I04','I06', 'I08'],    'dose6': ['K02','K04','K06', 'K08'],\n",
    "'dose7': ['M02','M04','M06', 'M08'],    'dose8': ['O02','O04','O06', 'O08']},\n",
    "            \n",
    "'drug3': {\n",
    "'dose1': ['A09','A11','A13', 'A15'],    'dose2': ['C09','C11','C13', 'C15'],\n",
    "'dose3': ['E09','E11','E13', 'E15'],    'dose4': ['G09','G11','G13', 'G15'],\n",
    "'dose5': ['I09','I11','I13', 'I15'],    'dose6': ['K09','K11','K13', 'K15'],\n",
    "'dose7': ['M09','M11','M13', 'M15'],    'dose8': ['O09','O11','O13', 'O15']},\n",
    "            \n",
    "'drug4': {\n",
    "'dose1': ['A10','A12','A14', 'A16'],    'dose2': ['C10','C12','C14', 'C16'],\n",
    "'dose3': ['E10','E12','E14', 'E16'],    'dose4': ['G10','G12','G14', 'G16'],\n",
    "'dose5': ['I10','I12','I14', 'I16'],    'dose6': ['K10','K12','K14', 'K16'],\n",
    "'dose7': ['M10','M12','M14', 'M16'],    'dose8': ['O10','O12','O14', 'O16']},\n",
    "            \n",
    "'drug5': {\n",
    "'dose1': ['A17','A19','A21', 'A23'],    'dose2': ['C17','C19','C21', 'C23'],\n",
    "'dose3': ['E17','E19','E21', 'E23'],    'dose4': ['G17','G19','G21', 'G23'],\n",
    "'dose5': ['I17','I19','I21', 'I23'],    'dose6': ['K17','K19','K21', 'K23'],\n",
    "'dose7': ['M17','M19','M21', 'M23'],    'dose8': ['O17','O19','O21', 'O23']},\n",
    "\n",
    "'drug6': {\n",
    "'dose1': ['A18','A20','A22', 'A24'],    'dose2': ['C18','C20','C22', 'C24'],\n",
    "'dose3': ['E18','E20','E22', 'E24'],    'dose4': ['G18','G20','G22', 'G24'],\n",
    "'dose5': ['I18','I20','I22', 'I24'],    'dose6': ['K18','K20','K22', 'K24'],\n",
    "'dose7': ['M18','M20','M22', 'M24'],    'dose8': ['O18','O20','O22', 'O24']},\n",
    "\n",
    "'drug7': {\n",
    "'dose1': ['B01','B03','B05', 'B07'],    'dose2': ['D01','D03','D05', 'D07'],\n",
    "'dose3': ['F01','F03','F05', 'F07'],    'dose4': ['H01','H03','H05', 'H07'],\n",
    "'dose5': ['J01','J03','J05', 'J07'],    'dose6': ['L01','L03','L05', 'L07'],\n",
    "'dose7': ['N01','N03','N05', 'N07'],    'dose8': ['P01','P03','P05', 'P07']},\n",
    "            \n",
    "'drug8': {\n",
    "'dose1': ['B02','B04','B06', 'B08'],    'dose2': ['D02','D04','D06', 'D08'],\n",
    "'dose3': ['F02','F04','F06', 'F08'],    'dose4': ['H02','H04','H06', 'H08'],\n",
    "'dose5': ['J02','J04','J06', 'J08'],    'dose6': ['L02','L04','L06', 'L08'],\n",
    "'dose7': ['N02','N04','N06', 'N08'],    'dose8': ['P02','P04','P06', 'P08']},\n",
    "\n",
    "'drug9': {\n",
    "'dose1': ['B09','B11','B13', 'B15'],    'dose2': ['D09','D11','D13', 'D15'],\n",
    "'dose3': ['F09','F11','F13', 'F15'],    'dose4': ['H09','H11','H13', 'H15'],\n",
    "'dose5': ['J09','J11','J13', 'J15'],    'dose6': ['L09','L11','L13', 'L15'],\n",
    "'dose7': ['N09','N11','N13', 'N15'],    'dose8': ['P09','P11','P13', 'P15']},\n",
    "            \n",
    "'drug10':{\n",
    "'dose1': ['B10','B12','B14', 'B16'],    'dose2': ['D10','D12','D14', 'D16'],\n",
    "'dose3': ['F10','F12','F14', 'F16'],    'dose4': ['H10','H12','H14', 'H16'],\n",
    "'dose5': ['J10','J12','J14', 'J16'],    'dose6': ['L10','L12','L14', 'L16'],\n",
    "'dose7': ['N10','N12','N14', 'N16'],    'dose8': ['P10','P12','P14', 'P16']},\n",
    "            \n",
    "'drug11':{\n",
    "'dose1': ['B17','B19','B21', 'B23'],    'dose2': ['D17','D19','D21', 'D23'],\n",
    "'dose3': ['F17','F19','F21', 'F23'],    'dose4': ['H17','H19','H21', 'H23'],\n",
    "'dose5': ['J17','J19','J21', 'J23'],    'dose6': ['L17','L19','L21', 'L23'],\n",
    "'dose7': ['N17','N19','N21', 'N23'],    'dose8': ['P17','P19','P21', 'P23']},\n",
    " \n",
    " 'drug12':{\n",
    "'dose1': ['B18','B20','B22', 'B24'],    'dose2': ['D18','D20','D22', 'D24'],\n",
    "'dose3': ['F18','F20','F22', 'F24'],    'dose4': ['H18','H20','H22', 'H24'],\n",
    "'dose5': ['J18','J20','J22', 'J24'],    'dose6': ['L18','L20','L22', 'L24'],\n",
    "'dose7': ['N18','N20','N22', 'N24'],    'dose8': ['P18','P20','P22', 'P24']}\n",
    "}"
   ]
  },
  {
   "cell_type": "markdown",
   "metadata": {},
   "source": [
    "Print out the first two drugs and their doses in order. \n",
    "\n",
    "Note: `itertools.islice(iterable,stop)` is a nice way to slice and iterable because we can't use the same slice formate as we would with a list on an iterable e.g. `list[0:2]`"
   ]
  },
  {
   "cell_type": "code",
   "execution_count": 23,
   "metadata": {},
   "outputs": [
    {
     "name": "stdout",
     "output_type": "stream",
     "text": [
      "drug1 --> dose1 --> ['A01', 'A03', 'A05', 'A07']\n",
      "drug1 --> dose2 --> ['C01', 'C03', 'C05', 'C07']\n",
      "drug1 --> dose3 --> ['E01', 'E03', 'E05', 'E07']\n",
      "drug1 --> dose4 --> ['G01', 'G03', 'G05', 'G07']\n",
      "drug1 --> dose5 --> ['I01', 'I03', 'I05', 'I07']\n",
      "drug1 --> dose6 --> ['K01', 'K03', 'K05', 'K07']\n",
      "drug1 --> dose7 --> ['M01', 'M03', 'M05', 'M07']\n",
      "drug1 --> dose8 --> ['O01', 'O03', 'O05', 'O07']\n",
      "drug2 --> dose1 --> ['A02', 'A04', 'A06', 'A08']\n",
      "drug2 --> dose2 --> ['C02', 'C04', 'C06', 'C08']\n",
      "drug2 --> dose3 --> ['E02', 'E04', 'E06', 'E08']\n",
      "drug2 --> dose4 --> ['G02', 'G04', 'G06', 'G08']\n",
      "drug2 --> dose5 --> ['I02', 'I04', 'I06', 'I08']\n",
      "drug2 --> dose6 --> ['K02', 'K04', 'K06', 'K08']\n",
      "drug2 --> dose7 --> ['M02', 'M04', 'M06', 'M08']\n",
      "drug2 --> dose8 --> ['O02', 'O04', 'O06', 'O08']\n"
     ]
    }
   ],
   "source": [
    "for drug, doseList in itertools.islice(drugDict.items(), 2):\n",
    "        for dose, wells in doseList.items():\n",
    "            print(f'{drug} --> {dose} --> {wells}')"
   ]
  },
  {
   "cell_type": "markdown",
   "metadata": {},
   "source": [
    "Now try matching the file with the drug and dose using the new nested dictionary data structure. I'll only print out the first drug in the list. Its too large!"
   ]
  },
  {
   "cell_type": "code",
   "execution_count": 24,
   "metadata": {
    "scrolled": false
   },
   "outputs": [
    {
     "name": "stdout",
     "output_type": "stream",
     "text": [
      "grn_d6_24hr_posttx_WellI01_Channel405 nm,488 nm,561 nm,640 nm_Seq0192.nd2 - belongs to -->  I01 drug1 dose5\n",
      "grn_d6_24hr_posttx_WellA01_Channel405 nm,488 nm,561 nm,640 nm_Seq0000.nd2 - belongs to -->  A01 drug1 dose1\n",
      "grn_d6_24hr_posttx_WellK03_Channel405 nm,488 nm,561 nm,640 nm_Seq0242.nd2 - belongs to -->  K03 drug1 dose6\n",
      "grn_d6_24hr_posttx_WellM03_Channel405 nm,488 nm,561 nm,640 nm_Seq0290.nd2 - belongs to -->  M03 drug1 dose7\n",
      "grn_d6_24hr_posttx_WellE03_Channel405 nm,488 nm,561 nm,640 nm_Seq0098.nd2 - belongs to -->  E03 drug1 dose3\n",
      "grn_d6_24hr_posttx_WellC07_Channel405 nm,488 nm,561 nm,640 nm_Seq0054.nd2 - belongs to -->  C07 drug1 dose2\n",
      "grn_d6_24hr_posttx_WellI03_Channel405 nm,488 nm,561 nm,640 nm_Seq0194.nd2 - belongs to -->  I03 drug1 dose5\n",
      "grn_d6_24hr_posttx_WellC01_Channel405 nm,488 nm,561 nm,640 nm_Seq0048.nd2 - belongs to -->  C01 drug1 dose2\n",
      "grn_d6_24hr_posttx_WellO01_Channel405 nm,488 nm,561 nm,640 nm_Seq0336.nd2 - belongs to -->  O01 drug1 dose8\n",
      "grn_d6_24hr_posttx_WellA03_Channel405 nm,488 nm,561 nm,640 nm_Seq0002.nd2 - belongs to -->  A03 drug1 dose1\n",
      "grn_d6_24hr_posttx_WellK01_Channel405 nm,488 nm,561 nm,640 nm_Seq0240.nd2 - belongs to -->  K01 drug1 dose6\n",
      "grn_d6_24hr_posttx_WellG07_Channel405 nm,488 nm,561 nm,640 nm_Seq0150.nd2 - belongs to -->  G07 drug1 dose4\n",
      "grn_d6_24hr_posttx_WellC05_Channel405 nm,488 nm,561 nm,640 nm_Seq0052.nd2 - belongs to -->  C05 drug1 dose2\n",
      "grn_d6_24hr_posttx_WellI07_Channel405 nm,488 nm,561 nm,640 nm_Seq0198.nd2 - belongs to -->  I07 drug1 dose5\n",
      "grn_d6_24hr_posttx_WellM01_Channel405 nm,488 nm,561 nm,640 nm_Seq0288.nd2 - belongs to -->  M01 drug1 dose7\n",
      "grn_d6_24hr_posttx_WellK05_Channel405 nm,488 nm,561 nm,640 nm_Seq0244.nd2 - belongs to -->  K05 drug1 dose6\n",
      "grn_d6_24hr_posttx_WellA07_Channel405 nm,488 nm,561 nm,640 nm_Seq0006.nd2 - belongs to -->  A07 drug1 dose1\n",
      "grn_d6_24hr_posttx_WellE05_Channel405 nm,488 nm,561 nm,640 nm_Seq0100.nd2 - belongs to -->  E05 drug1 dose3\n",
      "grn_d6_24hr_posttx_WellG03_Channel405 nm,488 nm,561 nm,640 nm_Seq0146.nd2 - belongs to -->  G03 drug1 dose4\n",
      "grn_d6_24hr_posttx_WellO07_Channel405 nm,488 nm,561 nm,640 nm_Seq0342.nd2 - belongs to -->  O07 drug1 dose8\n",
      "grn_d6_24hr_posttx_WellE01_Channel405 nm,488 nm,561 nm,640 nm_Seq0096.nd2 - belongs to -->  E01 drug1 dose3\n",
      "grn_d6_24hr_posttx_WellM05_Channel405 nm,488 nm,561 nm,640 nm_Seq0292.nd2 - belongs to -->  M05 drug1 dose7\n",
      "grn_d6_24hr_posttx_WellC03_Channel405 nm,488 nm,561 nm,640 nm_Seq0050.nd2 - belongs to -->  C03 drug1 dose2\n",
      "grn_d6_24hr_posttx_WellO03_Channel405 nm,488 nm,561 nm,640 nm_Seq0338.nd2 - belongs to -->  O03 drug1 dose8\n",
      "grn_d6_24hr_posttx_WellE07_Channel405 nm,488 nm,561 nm,640 nm_Seq0102.nd2 - belongs to -->  E07 drug1 dose3\n",
      "grn_d6_24hr_posttx_WellO05_Channel405 nm,488 nm,561 nm,640 nm_Seq0340.nd2 - belongs to -->  O05 drug1 dose8\n",
      "grn_d6_24hr_posttx_WellG01_Channel405 nm,488 nm,561 nm,640 nm_Seq0144.nd2 - belongs to -->  G01 drug1 dose4\n",
      "grn_d6_24hr_posttx_WellK07_Channel405 nm,488 nm,561 nm,640 nm_Seq0246.nd2 - belongs to -->  K07 drug1 dose6\n",
      "grn_d6_24hr_posttx_WellA05_Channel405 nm,488 nm,561 nm,640 nm_Seq0004.nd2 - belongs to -->  A05 drug1 dose1\n",
      "grn_d6_24hr_posttx_WellG05_Channel405 nm,488 nm,561 nm,640 nm_Seq0148.nd2 - belongs to -->  G05 drug1 dose4\n",
      "grn_d6_24hr_posttx_WellM07_Channel405 nm,488 nm,561 nm,640 nm_Seq0294.nd2 - belongs to -->  M07 drug1 dose7\n",
      "grn_d6_24hr_posttx_WellI05_Channel405 nm,488 nm,561 nm,640 nm_Seq0196.nd2 - belongs to -->  I05 drug1 dose5\n"
     ]
    }
   ],
   "source": [
    "for file in fileList:\n",
    "    r = re.search(REGEXP,file)\n",
    "    for drug, doseList in itertools.islice(drugDict.items(),1):\n",
    "        for dose, wells in doseList.items():\n",
    "            if r.group(2) in wells:\n",
    "                print(file,'- belongs to --> ', r.group(2), drug, dose)"
   ]
  },
  {
   "cell_type": "markdown",
   "metadata": {},
   "source": [
    "Let's build upon this more to create the file path of where the file should be moved to\n",
    "\n",
    "Recall from above that:\n",
    "`filesDir = '/Users/uapinyoyingpb/misc-scripts/python_scripts/organize_nd2/test_files'`"
   ]
  },
  {
   "cell_type": "code",
   "execution_count": 25,
   "metadata": {},
   "outputs": [],
   "source": [
    "fileDestList = []\n",
    "\n",
    "for file in fileList: # original file names in a list\n",
    "    r = re.search(REGEXP,file)\n",
    "    for drug, doseDict in drugDict.items():\n",
    "        for dose, wells in doseDict.items():\n",
    "            if r.group(2) in wells:\n",
    "                destPath = os.path.join(filesDir, drug, dose) # destination path\n",
    "                \n",
    "                # I am going to pair the file and destination path into a tuple using the extra parentheses ()\n",
    "                fileDestList.append((file, destPath))"
   ]
  },
  {
   "cell_type": "markdown",
   "metadata": {},
   "source": [
    "Here are the first 5 entries of `fileDestList`.  I am unpacking the tuple using `(file, dest)`"
   ]
  },
  {
   "cell_type": "code",
   "execution_count": 26,
   "metadata": {},
   "outputs": [
    {
     "name": "stdout",
     "output_type": "stream",
     "text": [
      "Original File:\t\"grn_d6_24hr_posttx_WellB24_Channel405 nm,488 nm,561 nm,640 nm_Seq0024.nd2\"\n",
      "Destination:\t\"/Users/uapinyoyingpb/misc-scripts/python_scripts/organize_nd2/test_files/drug12/dose1\"\n",
      "\n",
      "Original File:\t\"grn_d6_24hr_posttx_WellF03_Channel405 nm,488 nm,561 nm,640 nm_Seq0141.nd2\"\n",
      "Destination:\t\"/Users/uapinyoyingpb/misc-scripts/python_scripts/organize_nd2/test_files/drug7/dose3\"\n",
      "\n",
      "Original File:\t\"grn_d6_24hr_posttx_WellA22_Channel405 nm,488 nm,561 nm,640 nm_Seq0021.nd2\"\n",
      "Destination:\t\"/Users/uapinyoyingpb/misc-scripts/python_scripts/organize_nd2/test_files/drug6/dose1\"\n",
      "\n",
      "Original File:\t\"grn_d6_24hr_posttx_WellJ20_Channel405 nm,488 nm,561 nm,640 nm_Seq0220.nd2\"\n",
      "Destination:\t\"/Users/uapinyoyingpb/misc-scripts/python_scripts/organize_nd2/test_files/drug12/dose5\"\n",
      "\n",
      "Original File:\t\"grn_d6_24hr_posttx_WellI01_Channel405 nm,488 nm,561 nm,640 nm_Seq0192.nd2\"\n",
      "Destination:\t\"/Users/uapinyoyingpb/misc-scripts/python_scripts/organize_nd2/test_files/drug1/dose5\"\n",
      "\n"
     ]
    }
   ],
   "source": [
    "for (file, dest) in fileDestList[0:5]:\n",
    "    print(f'Original File:\\t\"{file}\"\\nDestination:\\t\"{dest}\"\\n')  "
   ]
  },
  {
   "cell_type": "markdown",
   "metadata": {},
   "source": [
    "Turn it all into a reusable function"
   ]
  },
  {
   "cell_type": "code",
   "execution_count": 27,
   "metadata": {},
   "outputs": [],
   "source": [
    "def gen_fileDestList(filesDir, fileList, drugDict):\n",
    "    fileDestList = []\n",
    "\n",
    "    for file in fileList: # original file names in a list\n",
    "        r = re.search(REGEXP,file)\n",
    "        for drug, doseDict in drugDict.items():\n",
    "            for dose, wells in doseDict.items():\n",
    "                if r.group(2) in wells:\n",
    "                    destPath = os.path.join(filesDir, drug, dose) # destination path\n",
    "                    fileDestList.append((file, destPath))\n",
    "    \n",
    "    return fileDestList"
   ]
  },
  {
   "cell_type": "markdown",
   "metadata": {},
   "source": [
    "---\n",
    "\n",
    "# Step 6. Putting it all together\n",
    "\n",
    "Next we want to take this list of tuples that includes the file and destination path and use it to move and rename our files at the same time, by combining what we learned earlier. First thing I am going to try is take the two lists `fileDestList` and `oldNewFilenameList` and pair them together to create the final `moveList`. Although, I am sure there is a more efficient way I could have done this in one go rather than using this extra step.\n",
    "\n",
    "- `fileDestList` has orginal file name paired with the destination folder"
   ]
  },
  {
   "cell_type": "code",
   "execution_count": 28,
   "metadata": {},
   "outputs": [
    {
     "data": {
      "text/plain": [
       "('grn_d6_24hr_posttx_WellB24_Channel405 nm,488 nm,561 nm,640 nm_Seq0024.nd2',\n",
       " '/Users/uapinyoyingpb/misc-scripts/python_scripts/organize_nd2/test_files/drug12/dose1')"
      ]
     },
     "execution_count": 28,
     "metadata": {},
     "output_type": "execute_result"
    }
   ],
   "source": [
    "fileDestList[0]"
   ]
  },
  {
   "cell_type": "markdown",
   "metadata": {},
   "source": [
    "- `oldNewFilenameList` has original filename as well paired with the new name"
   ]
  },
  {
   "cell_type": "code",
   "execution_count": 29,
   "metadata": {},
   "outputs": [
    {
     "data": {
      "text/plain": [
       "('grn_d6_24hr_posttx_WellB24_Channel405 nm,488 nm,561 nm,640 nm_Seq0024.nd2',\n",
       " 'grn_d6_24hr_posttx_WellB24_Channel_405nm_488nm_561nm_640nm_Seq0024.nd2')"
      ]
     },
     "execution_count": 29,
     "metadata": {},
     "output_type": "execute_result"
    }
   ],
   "source": [
    "oldNewFilenameList[0]"
   ]
  },
  {
   "cell_type": "markdown",
   "metadata": {},
   "source": [
    "Work out the logic on `moveList` generation. We want to see if the `file` from `fileDestList` is the same as `oldFile` from `oldNewFilenameList`. If so, then we can pair the `dest` / destination of the renamed file / `newFile`."
   ]
  },
  {
   "cell_type": "code",
   "execution_count": 30,
   "metadata": {},
   "outputs": [
    {
     "name": "stdout",
     "output_type": "stream",
     "text": [
      "Source path:\n",
      "\"/Users/uapinyoyingpb/misc-scripts/python_scripts/organize_nd2/test_files/grn_d6_24hr_posttx_WellB24_Channel405 nm,488 nm,561 nm,640 nm_Seq0024.nd2\"\n",
      "\n",
      "Destination path:\n",
      "\"/Users/uapinyoyingpb/misc-scripts/python_scripts/organize_nd2/test_files/drug12/dose1/grn_d6_24hr_posttx_WellB24_Channel_405nm_488nm_561nm_640nm_Seq0024.nd2\"\n",
      "\n",
      "\n",
      "Source path:\n",
      "\"/Users/uapinyoyingpb/misc-scripts/python_scripts/organize_nd2/test_files/grn_d6_24hr_posttx_WellF03_Channel405 nm,488 nm,561 nm,640 nm_Seq0141.nd2\"\n",
      "\n",
      "Destination path:\n",
      "\"/Users/uapinyoyingpb/misc-scripts/python_scripts/organize_nd2/test_files/drug7/dose3/grn_d6_24hr_posttx_WellF03_Channel_405nm_488nm_561nm_640nm_Seq0141.nd2\"\n",
      "\n",
      "\n"
     ]
    }
   ],
   "source": [
    "moveList = [] # a list of tuples with (originalFullFilePath, renamedNewFilePath)\n",
    "\n",
    "for (file, destPath) in fileDestList:\n",
    "    for (oldFile, newFile) in oldNewFilenameList:\n",
    "        if file == oldFile:\n",
    "            oldFilePath = os.path.join(filesDir, oldFile)\n",
    "            newFilePath = os.path.join(destPath, newFile)\n",
    "            \n",
    "            # Again, add it as a tuple\n",
    "            moveList.append((oldFilePath, newFilePath))\n",
    "            \n",
    "for (source, destination) in moveList[0:2]: # peak at the first entry\n",
    "    print(f'Source path:\\n\"{source}\"\\n\\nDestination path:\\n\"{destination}\"\\n\\n')"
   ]
  },
  {
   "cell_type": "markdown",
   "metadata": {},
   "source": [
    "Make it into a reusable function"
   ]
  },
  {
   "cell_type": "code",
   "execution_count": 31,
   "metadata": {},
   "outputs": [],
   "source": [
    "def gen_moveList(fileDestList, oldNewFilenameList):\n",
    "    moveList = [] # a list of tuples with (originalFullFilePath, renamedNewFilePath)\n",
    "\n",
    "    for (file, destPath) in fileDestList:\n",
    "        for (oldFile, newFile) in oldNewFilenameList:\n",
    "            if file == oldFile:\n",
    "                oldFilePath = os.path.join(filesDir, oldFile)\n",
    "                newFilePath = os.path.join(destPath, newFile)\n",
    "\n",
    "                moveList.append((oldFilePath, newFilePath))\n",
    "\n",
    "    return moveList"
   ]
  },
  {
   "cell_type": "markdown",
   "metadata": {},
   "source": [
    "Use the new function to generate the final `moveList`"
   ]
  },
  {
   "cell_type": "code",
   "execution_count": 32,
   "metadata": {},
   "outputs": [
    {
     "name": "stdout",
     "output_type": "stream",
     "text": [
      "Source path:\n",
      "\"/Users/uapinyoyingpb/misc-scripts/python_scripts/organize_nd2/test_files/grn_d6_24hr_posttx_WellB24_Channel405 nm,488 nm,561 nm,640 nm_Seq0024.nd2\"\n",
      "\n",
      "Destination path:\n",
      "\"/Users/uapinyoyingpb/misc-scripts/python_scripts/organize_nd2/test_files/drug12/dose1/grn_d6_24hr_posttx_WellB24_Channel_405nm_488nm_561nm_640nm_Seq0024.nd2\"\n",
      "\n",
      "\n",
      "Source path:\n",
      "\"/Users/uapinyoyingpb/misc-scripts/python_scripts/organize_nd2/test_files/grn_d6_24hr_posttx_WellF03_Channel405 nm,488 nm,561 nm,640 nm_Seq0141.nd2\"\n",
      "\n",
      "Destination path:\n",
      "\"/Users/uapinyoyingpb/misc-scripts/python_scripts/organize_nd2/test_files/drug7/dose3/grn_d6_24hr_posttx_WellF03_Channel_405nm_488nm_561nm_640nm_Seq0141.nd2\"\n",
      "\n",
      "\n"
     ]
    }
   ],
   "source": [
    "moveList = gen_moveList(fileDestList, oldNewFilenameList)\n",
    "\n",
    "for (source, destination) in moveList[0:2]: # peak at the first two entry\\ies\n",
    "    print(f'Source path:\\n\"{source}\"\\n\\nDestination path:\\n\"{destination}\"\\n\\n')"
   ]
  },
  {
   "cell_type": "markdown",
   "metadata": {},
   "source": [
    " I'll make this into a simple function"
   ]
  },
  {
   "cell_type": "code",
   "execution_count": 33,
   "metadata": {},
   "outputs": [],
   "source": [
    "def move_files(moveList):\n",
    "    for (source, destination) in moveList:\n",
    "        shutil.move(source, destination)\n",
    "    print('*Complete*')"
   ]
  },
  {
   "cell_type": "markdown",
   "metadata": {},
   "source": [
    "Finally all we have to do now is to move and rename the files!"
   ]
  },
  {
   "cell_type": "code",
   "execution_count": 34,
   "metadata": {
    "scrolled": false
   },
   "outputs": [
    {
     "name": "stdout",
     "output_type": "stream",
     "text": [
      "*Complete*\n"
     ]
    }
   ],
   "source": [
    "move_files(moveList)"
   ]
  }
 ],
 "metadata": {
  "kernelspec": {
   "display_name": "Python 3",
   "language": "python",
   "name": "python3"
  },
  "language_info": {
   "codemirror_mode": {
    "name": "ipython",
    "version": 3
   },
   "file_extension": ".py",
   "mimetype": "text/x-python",
   "name": "python",
   "nbconvert_exporter": "python",
   "pygments_lexer": "ipython3",
   "version": "3.6.6"
  }
 },
 "nbformat": 4,
 "nbformat_minor": 2
}
